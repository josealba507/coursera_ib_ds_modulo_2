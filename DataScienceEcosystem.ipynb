{
 "cells": [
  {
   "cell_type": "markdown",
   "id": "a13402ee-5830-422d-81ca-187efcec2ad8",
   "metadata": {},
   "source": [
    "# Data Science Tools and Ecosystem"
   ]
  },
  {
   "cell_type": "markdown",
   "id": "d29fca32-0c88-447f-bc78-36828af9b16d",
   "metadata": {},
   "source": [
    "In this notebook, Data Science Tools and Ecosystem are summarized."
   ]
  },
  {
   "cell_type": "markdown",
   "id": "24a290de-2786-4d86-a20d-639c546a4d22",
   "metadata": {},
   "source": [
    "Some of the popular languages that Data Scientists use are:\n",
    "1. Python\n",
    "2. R\n",
    "3. Scala"
   ]
  },
  {
   "cell_type": "markdown",
   "id": "b1334754-658a-4c81-a816-9d6deb9bbc48",
   "metadata": {},
   "source": [
    "Some of the commonly used libraries used by Data Scientists include:\n",
    "1. Pandas\n",
    "2. Numpy\n",
    "3. Scikit-Learn"
   ]
  },
  {
   "cell_type": "markdown",
   "id": "f1435956-54f0-4887-8696-5365b0b5a946",
   "metadata": {},
   "source": [
    "## Data Science Tools:\n",
    "* Knime\n",
    "* Scikit-learn\n",
    "* Hadoop"
   ]
  },
  {
   "cell_type": "markdown",
   "id": "fc19962e-9af0-4bf3-ac2b-362436f95da3",
   "metadata": {},
   "source": [
    "### Below are a few examples of evaluating arithmetic expressions in Python"
   ]
  },
  {
   "cell_type": "code",
   "execution_count": 12,
   "id": "5c16b2ec-435b-4576-ab8f-42087c1bb599",
   "metadata": {},
   "outputs": [
    {
     "data": {
      "text/plain": [
       "17"
      ]
     },
     "execution_count": 12,
     "metadata": {},
     "output_type": "execute_result"
    }
   ],
   "source": [
    "# This a simple arithmetic expression to mutiply then add integers\n",
    "(3*4)+5"
   ]
  },
  {
   "cell_type": "code",
   "execution_count": 20,
   "id": "7f7c8f04-cc3b-49fb-b0ae-5340d3b5c317",
   "metadata": {},
   "outputs": [
    {
     "name": "stdout",
     "output_type": "stream",
     "text": [
      "the result is 3 Hours with 20 minutes\n"
     ]
    }
   ],
   "source": [
    "#This will convert 200 minutes to hours by diving by 60\n",
    "min=int(200)\n",
    "h=min//60\n",
    "m=min%60\n",
    "print(\"the result is \"+str(h)+\" Hours with \"+ str(m) + \" minutes\")"
   ]
  },
  {
   "cell_type": "markdown",
   "id": "9f5b8372-9078-4540-a6ff-86a9ad9f6bed",
   "metadata": {},
   "source": [
    "***Objectives:***\n",
    "* List of Data Scientists languages \n",
    "* List of Data Scientists libraries\n",
    "* List of Data Science Tools"
   ]
  },
  {
   "cell_type": "markdown",
   "id": "c5a9900a-b4f7-48d5-b768-ad55750dda16",
   "metadata": {},
   "source": [
    "## Author\n",
    "Jose Luis Alba"
   ]
  },
  {
   "cell_type": "code",
   "execution_count": null,
   "id": "c7c19e6a-37e9-4ed9-aedf-bc91ef1fcac7",
   "metadata": {},
   "outputs": [],
   "source": []
  }
 ],
 "metadata": {
  "kernelspec": {
   "display_name": "Python 3 (ipykernel)",
   "language": "python",
   "name": "python3"
  },
  "language_info": {
   "codemirror_mode": {
    "name": "ipython",
    "version": 3
   },
   "file_extension": ".py",
   "mimetype": "text/x-python",
   "name": "python",
   "nbconvert_exporter": "python",
   "pygments_lexer": "ipython3",
   "version": "3.9.13"
  }
 },
 "nbformat": 4,
 "nbformat_minor": 5
}
